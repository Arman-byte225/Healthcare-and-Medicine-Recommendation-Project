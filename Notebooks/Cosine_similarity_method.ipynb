{
 "cells": [
  {
   "cell_type": "markdown",
   "metadata": {},
   "source": [
    "Cosine Similarity\n",
    "\n",
    "Cosine Similarity is a metric used to measure how similar two vectors are, irrespective of their magnitude. It calculates the cosine of the angle between two non-zero vectors in an inner product space. The formula is:\n",
    "\n",
    "\\text{Cosine Similarity} = \\frac{A \\cdot B}{\\|A\\| \\|B\\|}\n",
    "\n",
    "Where:\n",
    "\n",
    "is the dot product of vectors A and B\n",
    "\n",
    "and  are the magnitudes (or Euclidean norms) of the vectors\n",
    "\n",
    "Value Range:\n",
    "\n",
    "1 → Vectors are identical\n",
    "\n",
    "0 → Vectors are orthogonal (no similarity)\n",
    "\n",
    "-1 → Vectors are diametrically opposite\n",
    "\n",
    "Use Cases:\n",
    "\n",
    "Text similarity in NLP\n",
    "\n",
    "Recommendation systems\n",
    "\n",
    "Clustering and classification\n",
    "\n",
    "It’s especially useful in high-dimensional spaces, like comparing TF-IDF vectors in document similarity tasks."
   ]
  },
  {
   "cell_type": "code",
   "execution_count": 2,
   "metadata": {},
   "outputs": [
    {
     "name": "stdout",
     "output_type": "stream",
     "text": [
      "<class 'pandas.core.frame.DataFrame'>\n",
      "RangeIndex: 3107 entries, 0 to 3106\n",
      "Data columns (total 9 columns):\n",
      " #   Column             Non-Null Count  Dtype \n",
      "---  ------             --------------  ----- \n",
      " 0   Unnamed: 0         3107 non-null   int64 \n",
      " 1   urlDrugName        3107 non-null   object\n",
      " 2   rating             3107 non-null   int64 \n",
      " 3   effectiveness      3107 non-null   object\n",
      " 4   sideEffects        3107 non-null   object\n",
      " 5   condition          3106 non-null   object\n",
      " 6   benefitsReview     3089 non-null   object\n",
      " 7   sideEffectsReview  3032 non-null   object\n",
      " 8   commentsReview     3095 non-null   object\n",
      "dtypes: int64(2), object(7)\n",
      "memory usage: 218.6+ KB\n",
      "None\n",
      "   Unnamed: 0       urlDrugName  rating         effectiveness  \\\n",
      "0        2202         enalapril       4      Highly Effective   \n",
      "1        3117  ortho-tri-cyclen       1      Highly Effective   \n",
      "2        1146           ponstel      10      Highly Effective   \n",
      "3        3947          prilosec       3  Marginally Effective   \n",
      "4        1951            lyrica       2  Marginally Effective   \n",
      "\n",
      "           sideEffects                               condition  \\\n",
      "0    Mild Side Effects  management of congestive heart failure   \n",
      "1  Severe Side Effects                        birth prevention   \n",
      "2      No Side Effects                        menstrual cramps   \n",
      "3    Mild Side Effects                             acid reflux   \n",
      "4  Severe Side Effects                            fibromyalgia   \n",
      "\n",
      "                                      benefitsReview  \\\n",
      "0  slowed the progression of left ventricular dys...   \n",
      "1  Although this type of birth control has more c...   \n",
      "2  I was used to having cramps so badly that they...   \n",
      "3  The acid reflux went away for a few months aft...   \n",
      "4  I think that the Lyrica was starting to help w...   \n",
      "\n",
      "                                   sideEffectsReview  \\\n",
      "0  cough, hypotension , proteinuria, impotence , ...   \n",
      "1  Heavy Cycle, Cramps, Hot Flashes, Fatigue, Lon...   \n",
      "2         Heavier bleeding and clotting than normal.   \n",
      "3  Constipation, dry mouth and some mild dizzines...   \n",
      "4  I felt extremely drugged and dopey.  Could not...   \n",
      "\n",
      "                                      commentsReview  \n",
      "0  monitor blood pressure , weight and asses for ...  \n",
      "1  I Hate This Birth Control, I Would Not Suggest...  \n",
      "2  I took 2 pills at the onset of my menstrual cr...  \n",
      "3  I was given Prilosec prescription at a dose of...  \n",
      "4                                          See above  \n"
     ]
    }
   ],
   "source": [
    "import pandas as pd\n",
    "\n",
    "# Load the dataset (update path accordingly)\n",
    "df = pd.read_csv(\"drugLibTrain_raw.tsv\", sep=\"\\t\")\n",
    "\n",
    "# Display basic info\n",
    "print(df.info())\n",
    "\n",
    "# Show first few rows\n",
    "print(df.head())\n"
   ]
  },
  {
   "cell_type": "code",
   "execution_count": 3,
   "metadata": {},
   "outputs": [
    {
     "name": "stdout",
     "output_type": "stream",
     "text": [
      "Unnamed: 0            0\n",
      "urlDrugName           0\n",
      "rating                0\n",
      "effectiveness         0\n",
      "sideEffects           0\n",
      "condition             1\n",
      "benefitsReview       18\n",
      "sideEffectsReview    75\n",
      "commentsReview       12\n",
      "dtype: int64\n"
     ]
    }
   ],
   "source": [
    "# Check for missing values\n",
    "print(df.isnull().sum())\n"
   ]
  },
  {
   "cell_type": "code",
   "execution_count": 4,
   "metadata": {},
   "outputs": [],
   "source": [
    "df.fillna({\"condition\": \"Unknown\",\n",
    "           \"benefitsReview\": \"No Review\",\n",
    "           \"sideEffectsReview\": \"No Review\",\n",
    "           \"commentsReview\": \"No Review\"}, inplace=True)"
   ]
  },
  {
   "cell_type": "code",
   "execution_count": 5,
   "metadata": {},
   "outputs": [
    {
     "name": "stdout",
     "output_type": "stream",
     "text": [
      "Unnamed: 0           0\n",
      "urlDrugName          0\n",
      "rating               0\n",
      "effectiveness        0\n",
      "sideEffects          0\n",
      "condition            0\n",
      "benefitsReview       0\n",
      "sideEffectsReview    0\n",
      "commentsReview       0\n",
      "dtype: int64\n"
     ]
    }
   ],
   "source": [
    "print(df.isnull().sum())"
   ]
  },
  {
   "cell_type": "code",
   "execution_count": 6,
   "metadata": {},
   "outputs": [
    {
     "name": "stderr",
     "output_type": "stream",
     "text": [
      "[nltk_data] Downloading package stopwords to C:\\Users\\Arman\n",
      "[nltk_data]     Gusain/nltk_data...\n",
      "[nltk_data]   Package stopwords is already up-to-date!\n"
     ]
    },
    {
     "name": "stdout",
     "output_type": "stream",
     "text": [
      "                                    cleaned_benefits  \\\n",
      "0  slowed progression left ventricular dysfunctio...   \n",
      "1  although type birth control cons pros help cra...   \n",
      "2  used cramps badly would leave balled bed least...   \n",
      "3  acid reflux went away months days drug heartbu...   \n",
      "4  think lyrica starting help pain side effects s...   \n",
      "\n",
      "                                 cleaned_sideEffects  \\\n",
      "0  cough hypotension proteinuria impotence renal ...   \n",
      "1  heavy cycle cramps hot flashes fatigue long la...   \n",
      "2                   heavier bleeding clotting normal   \n",
      "3  constipation dry mouth mild dizziness would go...   \n",
      "4  felt extremely drugged dopey could drive med a...   \n",
      "\n",
      "                                    cleaned_comments  \n",
      "0  monitor blood pressure weight asses resolution...  \n",
      "1            hate birth control would suggest anyone  \n",
      "2  took 2 pills onset menstrual cramps every 8 12...  \n",
      "3  given prilosec prescription dose 45mg per day ...  \n",
      "4                                                see  \n"
     ]
    }
   ],
   "source": [
    "import nltk\n",
    "import re\n",
    "from nltk.corpus import stopwords\n",
    "\n",
    "nltk.download(\"stopwords\")\n",
    "stop_words = set(stopwords.words(\"english\"))\n",
    "\n",
    "def clean_text(text):\n",
    "    text = text.lower() # Convert to lowercase\n",
    "    text = re.sub(r\"[^a-zA-Z0-9]\", \" \", text) # Remove special characters\n",
    "    text = \" \".join([word for word in text.split() if word not in stop_words]) # Remove stopwords\n",
    "    return text\n",
    "\n",
    "df[\"cleaned_benefits\"] = df[\"benefitsReview\"].apply(clean_text)\n",
    "df[\"cleaned_sideEffects\"] = df[\"sideEffectsReview\"].apply(clean_text)\n",
    "df[\"cleaned_comments\"] = df[\"commentsReview\"].apply(clean_text)\n",
    "\n",
    "print(df[[\"cleaned_benefits\", \"cleaned_sideEffects\", \"cleaned_comments\"]].head())"
   ]
  },
  {
   "cell_type": "code",
   "execution_count": 7,
   "metadata": {},
   "outputs": [],
   "source": [
    "from sklearn.feature_extraction.text import TfidfVectorizer\n",
    "from sklearn.metrics.pairwise import cosine_similarity\n",
    "\n",
    "# Combine important features\n",
    "df[\"combined_features\"] = df[\"condition\"] + \" \" + df[\"effectiveness\"]\n",
    "\n",
    "# Convert text data into numerical form using TF-IDF\n",
    "vectorizer = TfidfVectorizer()\n",
    "tfidf_matrix = vectorizer.fit_transform(df[\"combined_features\"].fillna(\"\"))\n",
    "\n",
    "# Compute similarity scores\n",
    "cosine_sim = cosine_similarity(tfidf_matrix)\n",
    "\n"
   ]
  },
  {
   "cell_type": "code",
   "execution_count": 8,
   "metadata": {},
   "outputs": [
    {
     "name": "stdout",
     "output_type": "stream",
     "text": [
      "     urlDrugName    condition         effectiveness\n",
      "2699    prevacid  acid reflux  Marginally Effective\n",
      "87        zantac  acid reflux      Highly Effective\n",
      "135     protonix  acid reflux      Highly Effective\n",
      "319     protonix  acid reflux      Highly Effective\n",
      "669     prilosec  acid reflux      Highly Effective\n"
     ]
    }
   ],
   "source": [
    "# Function to get similar drugs\n",
    "def recommend_drug(drug_name, df, cosine_sim):\n",
    "    idx = df[df[\"urlDrugName\"] == drug_name].index[0] # Get index of drug\n",
    "    sim_scores = list(enumerate(cosine_sim[idx])) # Get similarity scores\n",
    "    sim_scores = sorted(sim_scores, key=lambda x: x[1], reverse=True) # Sort by similarity\n",
    "    sim_scores = sim_scores[1:6] # Get top 5 similar drugs\n",
    "    drug_indices = [i[0] for i in sim_scores]\n",
    "    return df.iloc[drug_indices][[\"urlDrugName\", \"condition\", \"effectiveness\"]]\n",
    "\n",
    "# Example usage\n",
    "print(recommend_drug(\"prilosec\", df, cosine_sim))"
   ]
  },
  {
   "cell_type": "code",
   "execution_count": 9,
   "metadata": {},
   "outputs": [],
   "source": [
    "effectiveness_mapping = {\n",
    "    \"Highly Effective\": 3,\n",
    "    \"Moderately Effective\": 2,\n",
    "    \"Marginally Effective\": 1,\n",
    "    \"Ineffective\": 0\n",
    "}\n",
    "\n",
    "df[\"effectiveness_score\"] = df[\"effectiveness\"].map(effectiveness_mapping)"
   ]
  },
  {
   "cell_type": "code",
   "execution_count": 10,
   "metadata": {},
   "outputs": [
    {
     "name": "stdout",
     "output_type": "stream",
     "text": [
      "sideEffectsReview    object\n",
      "commentsReview       object\n",
      "dtype: object\n"
     ]
    }
   ],
   "source": [
    "print(df[[\"sideEffectsReview\", \"commentsReview\"]].dtypes)"
   ]
  },
  {
   "cell_type": "code",
   "execution_count": 11,
   "metadata": {},
   "outputs": [],
   "source": [
    "df[\"sideEffectsReview\"] = pd.to_numeric(df[\"sideEffectsReview\"], errors=\"coerce\")\n",
    "df[\"commentsReview\"] = pd.to_numeric(df[\"commentsReview\"], errors=\"coerce\")"
   ]
  },
  {
   "cell_type": "code",
   "execution_count": 12,
   "metadata": {},
   "outputs": [
    {
     "name": "stderr",
     "output_type": "stream",
     "text": [
      "C:\\Users\\Arman Gusain\\AppData\\Local\\Temp\\ipykernel_4152\\809762296.py:1: FutureWarning: A value is trying to be set on a copy of a DataFrame or Series through chained assignment using an inplace method.\n",
      "The behavior will change in pandas 3.0. This inplace method will never work because the intermediate object on which we are setting values always behaves as a copy.\n",
      "\n",
      "For example, when doing 'df[col].method(value, inplace=True)', try using 'df.method({col: value}, inplace=True)' or df[col] = df[col].method(value) instead, to perform the operation inplace on the original object.\n",
      "\n",
      "\n",
      "  df[\"sideEffectsReview\"].fillna(df[\"sideEffectsReview\"].median(), inplace=True)\n",
      "C:\\Users\\Arman Gusain\\AppData\\Local\\Temp\\ipykernel_4152\\809762296.py:2: FutureWarning: A value is trying to be set on a copy of a DataFrame or Series through chained assignment using an inplace method.\n",
      "The behavior will change in pandas 3.0. This inplace method will never work because the intermediate object on which we are setting values always behaves as a copy.\n",
      "\n",
      "For example, when doing 'df[col].method(value, inplace=True)', try using 'df.method({col: value}, inplace=True)' or df[col] = df[col].method(value) instead, to perform the operation inplace on the original object.\n",
      "\n",
      "\n",
      "  df[\"commentsReview\"].fillna(df[\"commentsReview\"].median(), inplace=True)\n"
     ]
    }
   ],
   "source": [
    "df[\"sideEffectsReview\"].fillna(df[\"sideEffectsReview\"].median(), inplace=True)\n",
    "df[\"commentsReview\"].fillna(df[\"commentsReview\"].median(), inplace=True)"
   ]
  },
  {
   "cell_type": "code",
   "execution_count": 13,
   "metadata": {},
   "outputs": [],
   "source": [
    "from sklearn.preprocessing import MinMaxScaler\n",
    "\n",
    "# Fill NaN values with 0 or a neutral value before scaling\n",
    "df[[\"sideEffectsReview\", \"commentsReview\"]] = df[[\"sideEffectsReview\", \"commentsReview\"]].fillna(0)\n",
    "\n",
    "# Now apply MinMaxScaler\n",
    "scaler = MinMaxScaler()\n",
    "df[[\"sideEffectsReview\", \"commentsReview\"]] = scaler.fit_transform(df[[\"sideEffectsReview\", \"commentsReview\"]])"
   ]
  },
  {
   "cell_type": "code",
   "execution_count": 14,
   "metadata": {},
   "outputs": [],
   "source": [
    "from sklearn.preprocessing import MinMaxScaler\n",
    "\n",
    "scaler = MinMaxScaler()\n",
    "df[[\"sideEffectsReview\", \"commentsReview\"]] = scaler.fit_transform(df[[\"sideEffectsReview\", \"commentsReview\"]])\n",
    "\n"
   ]
  },
  {
   "cell_type": "code",
   "execution_count": 15,
   "metadata": {},
   "outputs": [],
   "source": [
    "import numpy as np\n",
    "from scipy.spatial.distance import cosine\n",
    "\n",
    "# Convert numerical features to a NumPy array\n",
    "numerical_features = df[[\"effectiveness_score\", \"sideEffectsReview\", \"commentsReview\"]].values\n",
    "\n",
    "# Combine TF-IDF matrix with numerical features\n",
    "combined_features = np.hstack((tfidf_matrix.toarray(), numerical_features))"
   ]
  },
  {
   "cell_type": "code",
   "execution_count": 16,
   "metadata": {},
   "outputs": [],
   "source": [
    "df[\"combined_features\"] = df[\"combined_features\"].fillna(\"\")"
   ]
  },
  {
   "cell_type": "code",
   "execution_count": 17,
   "metadata": {},
   "outputs": [
    {
     "name": "stdout",
     "output_type": "stream",
     "text": [
      "0\n"
     ]
    }
   ],
   "source": [
    "print(df[\"combined_features\"].isnull().sum())"
   ]
  },
  {
   "cell_type": "code",
   "execution_count": 18,
   "metadata": {},
   "outputs": [
    {
     "name": "stdout",
     "output_type": "stream",
     "text": [
      "['management of congestive heart failure Highly Effective'\n",
      " 'birth prevention Highly Effective' 'menstrual cramps Highly Effective'\n",
      " ... 'hives, itching, swelling due to allergies Highly Effective'\n",
      " 'muscle relaxant - spinal disorder Considerably Effective'\n",
      " 'total hysterctomy Marginally Effective']\n"
     ]
    }
   ],
   "source": [
    "print(df[\"combined_features\"].apply(lambda x: x if pd.notna(x) else \"NaN found\").unique())"
   ]
  },
  {
   "cell_type": "code",
   "execution_count": 19,
   "metadata": {},
   "outputs": [],
   "source": [
    "from sklearn.feature_extraction.text import TfidfVectorizer\n",
    "from sklearn.metrics.pairwise import cosine_similarity\n",
    "\n",
    "# Step 1: Convert text to numerical representation\n",
    "vectorizer = TfidfVectorizer()\n",
    "tfidf_matrix = vectorizer.fit_transform(df[\"combined_features\"])  # Convert text into numerical vectors\n",
    "\n",
    "# Step 2: Compute cosine similarity\n",
    "cosine_sim = cosine_similarity(tfidf_matrix)  # Now compute similarity correctly"
   ]
  },
  {
   "cell_type": "code",
   "execution_count": 20,
   "metadata": {},
   "outputs": [],
   "source": [
    "def recommend_drug(drug_name, df, cosine_sim):\n",
    "    idx = df[df[\"urlDrugName\"] == drug_name].index[0] # Get index of the drug\n",
    "    sim_scores = list(enumerate(cosine_sim[idx])) # Get similarity scores\n",
    "    sim_scores = sorted(sim_scores, key=lambda x: x[1], reverse=True) # Sort by similarity\n",
    "    sim_scores = sim_scores[1:6] # Get top 5 similar drugs\n",
    "\n",
    "    drug_indices = [i[0] for i in sim_scores]\n",
    "    return df.iloc[drug_indices][[\"urlDrugName\", \"condition\", \"effectiveness\"]]"
   ]
  },
  {
   "cell_type": "code",
   "execution_count": 21,
   "metadata": {},
   "outputs": [
    {
     "name": "stdout",
     "output_type": "stream",
     "text": [
      "     urlDrugName    condition         effectiveness\n",
      "2699    prevacid  acid reflux  Marginally Effective\n",
      "87        zantac  acid reflux      Highly Effective\n",
      "135     protonix  acid reflux      Highly Effective\n",
      "319     protonix  acid reflux      Highly Effective\n",
      "669     prilosec  acid reflux      Highly Effective\n"
     ]
    }
   ],
   "source": [
    "print(recommend_drug(\"prilosec\", df, cosine_sim))"
   ]
  },
  {
   "cell_type": "code",
   "execution_count": 22,
   "metadata": {},
   "outputs": [],
   "source": [
    "import pandas as pd\n",
    "from sklearn.feature_extraction.text import TfidfVectorizer\n",
    "from sklearn.metrics.pairwise import cosine_similarity\n",
    "\n",
    "# Step 1: Drop nulls and combine text\n",
    "df_filtered = df.dropna(subset=['condition', 'urlDrugName', 'commentsReview', 'benefitsReview', 'sideEffectsReview']).copy()\n",
    "df_filtered['full_review'] =( df_filtered['commentsReview'].astype(str) + \" \" + df_filtered['benefitsReview'].astype(str) + \" \" + df_filtered['sideEffectsReview'].astype(str))"
   ]
  },
  {
   "cell_type": "code",
   "execution_count": 23,
   "metadata": {},
   "outputs": [],
   "source": [
    "# Step 2: Create TF-IDF matrix\n",
    "tfidf = TfidfVectorizer(stop_words='english')\n",
    "tfidf_matrix = tfidf.fit_transform(df_filtered['full_review'])"
   ]
  },
  {
   "cell_type": "code",
   "execution_count": 24,
   "metadata": {},
   "outputs": [],
   "source": [
    "from sklearn.metrics.pairwise import cosine_similarity\n",
    "\n",
    "cosine_sim = cosine_similarity(tfidf_matrix)"
   ]
  },
  {
   "cell_type": "code",
   "execution_count": 25,
   "metadata": {},
   "outputs": [],
   "source": [
    "# Step 3: Function to recommend medicine based on disease\n",
    "def recommend_medicine_by_disease(disease_name, top_n=5):\n",
    "    # Filter entries with matching disease\n",
    "    disease_df = df_filtered[df_filtered['condition'].str.lower() == disease_name.lower()]\n",
    "   \n",
    "    if disease_df.empty:\n",
    "        print(\"Disease not found in dataset.\")\n",
    "        return\n",
    "   \n",
    "    # Use average of all matching disease reviews\n",
    "    disease_reviews_tfidf = tfidf.transform(disease_df['full_review'])\n",
    "    avg_vector = np.asarray(disease_reviews_tfidf.mean(axis=0)).ravel()\n",
    "   \n",
    "    # Compute cosine similarity with all medicines\n",
    "    similarities = cosine_similarity(avg_vector.reshape(1, -1), tfidf_matrix).flatten()\n",
    "    similar_indices = similarities.argsort()[-top_n:][::-1]\n",
    "   \n",
    "    # Get recommended medicine names\n",
    "    recommended_medicines = df_filtered.iloc[similar_indices]['urlDrugName'].unique()\n",
    "   \n",
    "    print(f\"Recommended medicines for '{disease_name}':\")\n",
    "    for med in recommended_medicines:\n",
    "        print(f\"- {med}\")"
   ]
  },
  {
   "cell_type": "code",
   "execution_count": 26,
   "metadata": {},
   "outputs": [
    {
     "name": "stdout",
     "output_type": "stream",
     "text": [
      "Recommended medicines for 'Diabetes':\n",
      "- metformin\n",
      "- glucophage\n",
      "- byetta\n"
     ]
    }
   ],
   "source": [
    "recommend_medicine_by_disease(\"Diabetes\")"
   ]
  },
  {
   "cell_type": "code",
   "execution_count": 27,
   "metadata": {},
   "outputs": [
    {
     "name": "stdout",
     "output_type": "stream",
     "text": [
      "Recommended medicines for 'Cold':\n",
      "- claritin\n",
      "- celexa\n",
      "- zyrtec-d\n",
      "- allegra\n",
      "- valtrex\n"
     ]
    }
   ],
   "source": [
    "recommend_medicine_by_disease(\"Cold\")"
   ]
  },
  {
   "cell_type": "code",
   "execution_count": 29,
   "metadata": {},
   "outputs": [],
   "source": [
    "from sklearn.feature_extraction.text import TfidfVectorizer\n",
    "\n",
    "# Fit the vectorizer again\n",
    "tfidf_vectorizer = TfidfVectorizer()\n",
    "tfidf_matrix = tfidf_vectorizer.fit_transform(df['condition'].astype(str))"
   ]
  },
  {
   "cell_type": "code",
   "execution_count": 30,
   "metadata": {},
   "outputs": [],
   "source": [
    "import joblib\n",
    "\n",
    "# Save vectorizer\n",
    "joblib.dump(tfidf_vectorizer, 'tfidf_vectorizer_cosine.pkl')\n",
    "\n",
    "# save the DataFrame used \n",
    "df.to_csv('cosine_similarity_data.csv', index=False)"
   ]
  }
 ],
 "metadata": {
  "kernelspec": {
   "display_name": "base",
   "language": "python",
   "name": "python3"
  },
  "language_info": {
   "codemirror_mode": {
    "name": "ipython",
    "version": 3
   },
   "file_extension": ".py",
   "mimetype": "text/x-python",
   "name": "python",
   "nbconvert_exporter": "python",
   "pygments_lexer": "ipython3",
   "version": "3.12.7"
  }
 },
 "nbformat": 4,
 "nbformat_minor": 2
}
